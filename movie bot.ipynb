{
 "cells": [
  {
   "cell_type": "code",
   "execution_count": 17,
   "metadata": {},
   "outputs": [
    {
     "name": "stdout",
     "output_type": "stream",
     "text": [
      "Requirement already satisfied: beautifulsoup4 in c:\\users\\salemalw\\appdata\\local\\packages\\pythonsoftwarefoundation.python.3.11_qbz5n2kfra8p0\\localcache\\local-packages\\python311\\site-packages (4.12.2)\n",
      "Requirement already satisfied: pandas in c:\\users\\salemalw\\appdata\\local\\packages\\pythonsoftwarefoundation.python.3.11_qbz5n2kfra8p0\\localcache\\local-packages\\python311\\site-packages (2.1.1)\n",
      "Requirement already satisfied: requests in c:\\users\\salemalw\\appdata\\local\\packages\\pythonsoftwarefoundation.python.3.11_qbz5n2kfra8p0\\localcache\\local-packages\\python311\\site-packages (2.31.0)\n",
      "Requirement already satisfied: soupsieve>1.2 in c:\\users\\salemalw\\appdata\\local\\packages\\pythonsoftwarefoundation.python.3.11_qbz5n2kfra8p0\\localcache\\local-packages\\python311\\site-packages (from beautifulsoup4) (2.5)\n",
      "Requirement already satisfied: numpy>=1.23.2 in c:\\users\\salemalw\\appdata\\local\\packages\\pythonsoftwarefoundation.python.3.11_qbz5n2kfra8p0\\localcache\\local-packages\\python311\\site-packages (from pandas) (1.26.1)\n",
      "Requirement already satisfied: python-dateutil>=2.8.2 in c:\\users\\salemalw\\appdata\\local\\packages\\pythonsoftwarefoundation.python.3.11_qbz5n2kfra8p0\\localcache\\local-packages\\python311\\site-packages (from pandas) (2.8.2)\n",
      "Requirement already satisfied: pytz>=2020.1 in c:\\users\\salemalw\\appdata\\local\\packages\\pythonsoftwarefoundation.python.3.11_qbz5n2kfra8p0\\localcache\\local-packages\\python311\\site-packages (from pandas) (2023.3.post1)\n",
      "Requirement already satisfied: tzdata>=2022.1 in c:\\users\\salemalw\\appdata\\local\\packages\\pythonsoftwarefoundation.python.3.11_qbz5n2kfra8p0\\localcache\\local-packages\\python311\\site-packages (from pandas) (2023.3)\n",
      "Requirement already satisfied: charset-normalizer<4,>=2 in c:\\users\\salemalw\\appdata\\local\\packages\\pythonsoftwarefoundation.python.3.11_qbz5n2kfra8p0\\localcache\\local-packages\\python311\\site-packages (from requests) (3.3.1)\n",
      "Requirement already satisfied: idna<4,>=2.5 in c:\\users\\salemalw\\appdata\\local\\packages\\pythonsoftwarefoundation.python.3.11_qbz5n2kfra8p0\\localcache\\local-packages\\python311\\site-packages (from requests) (3.4)\n",
      "Requirement already satisfied: urllib3<3,>=1.21.1 in c:\\users\\salemalw\\appdata\\local\\packages\\pythonsoftwarefoundation.python.3.11_qbz5n2kfra8p0\\localcache\\local-packages\\python311\\site-packages (from requests) (2.0.7)\n",
      "Requirement already satisfied: certifi>=2017.4.17 in c:\\users\\salemalw\\appdata\\local\\packages\\pythonsoftwarefoundation.python.3.11_qbz5n2kfra8p0\\localcache\\local-packages\\python311\\site-packages (from requests) (2023.7.22)\n",
      "Requirement already satisfied: six>=1.5 in c:\\users\\salemalw\\appdata\\local\\packages\\pythonsoftwarefoundation.python.3.11_qbz5n2kfra8p0\\localcache\\local-packages\\python311\\site-packages (from python-dateutil>=2.8.2->pandas) (1.16.0)\n",
      "Note: you may need to restart the kernel to use updated packages.\n"
     ]
    },
    {
     "name": "stderr",
     "output_type": "stream",
     "text": [
      "\n",
      "[notice] A new release of pip is available: 23.2.1 -> 23.3.1\n",
      "[notice] To update, run: C:\\Users\\salemalw\\AppData\\Local\\Microsoft\\WindowsApps\\PythonSoftwareFoundation.Python.3.11_qbz5n2kfra8p0\\python.exe -m pip install --upgrade pip\n"
     ]
    }
   ],
   "source": [
    "\n",
    "pip install beautifulsoup4 pandas requests"
   ]
  },
  {
   "cell_type": "code",
   "execution_count": 6,
   "metadata": {},
   "outputs": [
    {
     "name": "stdout",
     "output_type": "stream",
     "text": [
      "Suggested movie in drama genre: Bosch: Legacy\n"
     ]
    }
   ],
   "source": [
    "import requests\n",
    "from bs4 import BeautifulSoup\n",
    "import pandas as pd\n",
    "\n",
    "# Scrape movies from IMDb based on a genre\n",
    "def scrape_movies_by_genre(genre):\n",
    "    try:\n",
    "        base_url = f\"https://www.imdb.com/search/title/?genres={genre}\"\n",
    "        response = requests.get(base_url)\n",
    "        response.raise_for_status()  # Will raise an HTTPError if the HTTP request returned an unsuccessful status code\n",
    "\n",
    "        soup = BeautifulSoup(response.text, 'html.parser')\n",
    "        movies = []\n",
    "        for div in soup.find_all('div', class_='lister-item-content'):\n",
    "            title = div.h3.a.text\n",
    "            movies.append(title)\n",
    "        return movies\n",
    "    except requests.RequestException as e:\n",
    "        print(f\"Error during web scraping: {e}\")\n",
    "        return []\n",
    "\n",
    "# Store the scraped movies in a CSV file\n",
    "def save_to_csv(movies, genre):\n",
    "    df = pd.DataFrame({'Movie': movies})\n",
    "    filename = f\"{genre}_movies.csv\"\n",
    "    df.to_csv(filename, index=False)\n",
    "\n",
    "# Fetch a random movie suggestion from the stored CSV file\n",
    "def suggest_movie_from_csv(genre):\n",
    "    filename = f\"{genre}_movies.csv\"\n",
    "    try:\n",
    "        df = pd.read_csv(filename)\n",
    "        return df.sample().iloc[0]['Movie']\n",
    "    except FileNotFoundError:\n",
    "        return None\n",
    "\n",
    "# Main bot function\n",
    "\n",
    "def movie_suggestion_bot():\n",
    "    genre = input(\"Enter the genre of movie you're interested in (e.g. action, comedy, drama, etc.): \").lower()\n",
    "    suggested_movie = suggest_movie_from_csv(genre)\n",
    "\n",
    "    if suggested_movie:\n",
    "        print(f\"Suggested movie in {genre} genre: {suggested_movie}\")\n",
    "    else:\n",
    "        print(f\"No data available for {genre} genre. Fetching new data...\")\n",
    "        movies = scrape_movies_by_genre(genre)\n",
    "        if movies:\n",
    "            save_to_csv(movies, genre)\n",
    "            suggested_movie = suggest_movie_from_csv(genre)\n",
    "            print(f\"Suggested movie in {genre} genre: {suggested_movie}\")\n",
    "        else:\n",
    "            print(f\"Failed to fetch movies for the genre: {genre}. Please try again later or choose a different genre.\")\n",
    "\n",
    "movie_suggestion_bot()"
   ]
  },
  {
   "cell_type": "code",
   "execution_count": null,
   "metadata": {},
   "outputs": [],
   "source": []
  }
 ],
 "metadata": {
  "kernelspec": {
   "display_name": "Python 3",
   "language": "python",
   "name": "python3"
  },
  "language_info": {
   "codemirror_mode": {
    "name": "ipython",
    "version": 3
   },
   "file_extension": ".py",
   "mimetype": "text/x-python",
   "name": "python",
   "nbconvert_exporter": "python",
   "pygments_lexer": "ipython3",
   "version": "3.11.6"
  }
 },
 "nbformat": 4,
 "nbformat_minor": 2
}
